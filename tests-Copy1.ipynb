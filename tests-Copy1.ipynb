{
 "cells": [
  {
   "cell_type": "code",
   "execution_count": 2,
   "id": "be0ab0c2",
   "metadata": {},
   "outputs": [],
   "source": [
    "import pandas as pd\n",
    "import dataframe_image as dfi"
   ]
  },
  {
   "cell_type": "code",
   "execution_count": 3,
   "id": "4cd38513",
   "metadata": {},
   "outputs": [],
   "source": [
    "languages = ['python', 'c', 'c-otimizado', 'julia', 'r', 'java']\n",
    "envs = ['host', 'docker', 'vm']"
   ]
  },
  {
   "cell_type": "code",
   "execution_count": 4,
   "id": "224f2801",
   "metadata": {
    "scrolled": true
   },
   "outputs": [],
   "source": [
    "df = pd.DataFrame()\n",
    "for env in envs:\n",
    "    for lang in languages:\n",
    "        tmp = pd.read_csv(f'./{env}/results-{env}-{lang}.csv')\n",
    "        tmp.insert(0, 'env', env)\n",
    "        tmp.insert(1, 'language', lang)\n",
    "        df = pd.concat([df, tmp], ignore_index=True)"
   ]
  },
  {
   "cell_type": "code",
   "execution_count": 5,
   "id": "9f2ab388",
   "metadata": {
    "scrolled": false
   },
   "outputs": [
    {
     "data": {
      "text/html": [
       "<div>\n",
       "<style scoped>\n",
       "    .dataframe tbody tr th:only-of-type {\n",
       "        vertical-align: middle;\n",
       "    }\n",
       "\n",
       "    .dataframe tbody tr th {\n",
       "        vertical-align: top;\n",
       "    }\n",
       "\n",
       "    .dataframe thead th {\n",
       "        text-align: right;\n",
       "    }\n",
       "</style>\n",
       "<table border=\"1\" class=\"dataframe\">\n",
       "  <thead>\n",
       "    <tr style=\"text-align: right;\">\n",
       "      <th></th>\n",
       "      <th>env</th>\n",
       "      <th>language</th>\n",
       "      <th>function name</th>\n",
       "      <th>avg time</th>\n",
       "      <th>min time</th>\n",
       "      <th>max time</th>\n",
       "      <th>std dev</th>\n",
       "    </tr>\n",
       "  </thead>\n",
       "  <tbody>\n",
       "    <tr>\n",
       "      <th>0</th>\n",
       "      <td>host</td>\n",
       "      <td>python</td>\n",
       "      <td>copy_matrix_5000</td>\n",
       "      <td>12.374828</td>\n",
       "      <td>12.363077</td>\n",
       "      <td>12.389808</td>\n",
       "      <td>0.013655</td>\n",
       "    </tr>\n",
       "    <tr>\n",
       "      <th>1</th>\n",
       "      <td>host</td>\n",
       "      <td>python</td>\n",
       "      <td>copy_matrix_7000</td>\n",
       "      <td>0.866607</td>\n",
       "      <td>0.859691</td>\n",
       "      <td>0.872079</td>\n",
       "      <td>0.006319</td>\n",
       "    </tr>\n",
       "    <tr>\n",
       "      <th>2</th>\n",
       "      <td>host</td>\n",
       "      <td>python</td>\n",
       "      <td>copy_matrix_9000</td>\n",
       "      <td>1.465662</td>\n",
       "      <td>1.432810</td>\n",
       "      <td>1.528046</td>\n",
       "      <td>0.054052</td>\n",
       "    </tr>\n",
       "    <tr>\n",
       "      <th>3</th>\n",
       "      <td>host</td>\n",
       "      <td>python</td>\n",
       "      <td>look_and_say_sequence_40</td>\n",
       "      <td>1.009808</td>\n",
       "      <td>0.866428</td>\n",
       "      <td>1.284071</td>\n",
       "      <td>0.237601</td>\n",
       "    </tr>\n",
       "    <tr>\n",
       "      <th>4</th>\n",
       "      <td>host</td>\n",
       "      <td>python</td>\n",
       "      <td>look_and_say_sequence_45</td>\n",
       "      <td>21.578715</td>\n",
       "      <td>19.641207</td>\n",
       "      <td>24.093685</td>\n",
       "      <td>2.281718</td>\n",
       "    </tr>\n",
       "    <tr>\n",
       "      <th>...</th>\n",
       "      <td>...</td>\n",
       "      <td>...</td>\n",
       "      <td>...</td>\n",
       "      <td>...</td>\n",
       "      <td>...</td>\n",
       "      <td>...</td>\n",
       "      <td>...</td>\n",
       "    </tr>\n",
       "    <tr>\n",
       "      <th>634</th>\n",
       "      <td>vm</td>\n",
       "      <td>java</td>\n",
       "      <td>evaluate_functions_80000</td>\n",
       "      <td>297.143667</td>\n",
       "      <td>295.281000</td>\n",
       "      <td>298.629000</td>\n",
       "      <td>1.705597</td>\n",
       "    </tr>\n",
       "    <tr>\n",
       "      <th>635</th>\n",
       "      <td>vm</td>\n",
       "      <td>java</td>\n",
       "      <td>evaluate_functions_90000</td>\n",
       "      <td>332.028333</td>\n",
       "      <td>331.685000</td>\n",
       "      <td>332.270000</td>\n",
       "      <td>0.305464</td>\n",
       "    </tr>\n",
       "    <tr>\n",
       "      <th>636</th>\n",
       "      <td>vm</td>\n",
       "      <td>java</td>\n",
       "      <td>evaluate_functions_100000</td>\n",
       "      <td>368.135000</td>\n",
       "      <td>367.729000</td>\n",
       "      <td>368.565000</td>\n",
       "      <td>0.418516</td>\n",
       "    </tr>\n",
       "    <tr>\n",
       "      <th>637</th>\n",
       "      <td>vm</td>\n",
       "      <td>java</td>\n",
       "      <td>find_pernicious_numbers_100000</td>\n",
       "      <td>0.013000</td>\n",
       "      <td>0.010000</td>\n",
       "      <td>0.015000</td>\n",
       "      <td>0.002646</td>\n",
       "    </tr>\n",
       "    <tr>\n",
       "      <th>638</th>\n",
       "      <td>vm</td>\n",
       "      <td>java</td>\n",
       "      <td>find_munchausen_numbers_0</td>\n",
       "      <td>4.876504</td>\n",
       "      <td>4.871771</td>\n",
       "      <td>4.883373</td>\n",
       "      <td>0.006089</td>\n",
       "    </tr>\n",
       "  </tbody>\n",
       "</table>\n",
       "<p>639 rows × 7 columns</p>\n",
       "</div>"
      ],
      "text/plain": [
       "      env language                   function name    avg time    min time  \\\n",
       "0    host   python                copy_matrix_5000   12.374828   12.363077   \n",
       "1    host   python                copy_matrix_7000    0.866607    0.859691   \n",
       "2    host   python                copy_matrix_9000    1.465662    1.432810   \n",
       "3    host   python        look_and_say_sequence_40    1.009808    0.866428   \n",
       "4    host   python        look_and_say_sequence_45   21.578715   19.641207   \n",
       "..    ...      ...                             ...         ...         ...   \n",
       "634    vm     java        evaluate_functions_80000  297.143667  295.281000   \n",
       "635    vm     java        evaluate_functions_90000  332.028333  331.685000   \n",
       "636    vm     java       evaluate_functions_100000  368.135000  367.729000   \n",
       "637    vm     java  find_pernicious_numbers_100000    0.013000    0.010000   \n",
       "638    vm     java       find_munchausen_numbers_0    4.876504    4.871771   \n",
       "\n",
       "       max time   std dev  \n",
       "0     12.389808  0.013655  \n",
       "1      0.872079  0.006319  \n",
       "2      1.528046  0.054052  \n",
       "3      1.284071  0.237601  \n",
       "4     24.093685  2.281718  \n",
       "..          ...       ...  \n",
       "634  298.629000  1.705597  \n",
       "635  332.270000  0.305464  \n",
       "636  368.565000  0.418516  \n",
       "637    0.015000  0.002646  \n",
       "638    4.883373  0.006089  \n",
       "\n",
       "[639 rows x 7 columns]"
      ]
     },
     "execution_count": 5,
     "metadata": {},
     "output_type": "execute_result"
    }
   ],
   "source": [
    "df"
   ]
  },
  {
   "cell_type": "code",
   "execution_count": 6,
   "id": "c874fb9f",
   "metadata": {},
   "outputs": [
    {
     "data": {
      "text/plain": [
       "0       12.374828\n",
       "1        0.866607\n",
       "2        1.465662\n",
       "3        1.009808\n",
       "4       21.578715\n",
       "          ...    \n",
       "634    297.143667\n",
       "635    332.028333\n",
       "636    368.135000\n",
       "637      0.013000\n",
       "638      4.876504\n",
       "Name: avg time, Length: 639, dtype: float64"
      ]
     },
     "execution_count": 6,
     "metadata": {},
     "output_type": "execute_result"
    }
   ],
   "source": [
    "df['avg time'].astype(float)"
   ]
  },
  {
   "cell_type": "code",
   "execution_count": 7,
   "id": "cbd1f952",
   "metadata": {},
   "outputs": [],
   "source": [
    "def maximum_value_in_column(column):    \n",
    "\n",
    "    highlight = 'background-color: palegreen;'\n",
    "    default = ''\n",
    "\n",
    "    maximum_in_column = column.min()\n",
    "\n",
    "    # must return one string per cell in this column\n",
    "    return [highlight if v == maximum_in_column else default for v in column]"
   ]
  },
  {
   "cell_type": "code",
   "execution_count": 8,
   "id": "48aadd49",
   "metadata": {
    "scrolled": true
   },
   "outputs": [
    {
     "ename": "TypeError",
     "evalue": "'Styler' object is not subscriptable",
     "output_type": "error",
     "traceback": [
      "\u001b[0;31m---------------------------------------------------------------------------\u001b[0m",
      "\u001b[0;31mTypeError\u001b[0m                                 Traceback (most recent call last)",
      "\u001b[0;32m/tmp/ipykernel_22736/3781951387.py\u001b[0m in \u001b[0;36m<module>\u001b[0;34m\u001b[0m\n\u001b[1;32m      5\u001b[0m     \u001b[0mdf_test\u001b[0m \u001b[0;34m=\u001b[0m \u001b[0mpd\u001b[0m\u001b[0;34m.\u001b[0m\u001b[0mpivot\u001b[0m\u001b[0;34m(\u001b[0m\u001b[0mdf_test\u001b[0m\u001b[0;34m,\u001b[0m \u001b[0mindex\u001b[0m\u001b[0;34m=\u001b[0m\u001b[0;34m[\u001b[0m\u001b[0;34m'language'\u001b[0m\u001b[0;34m]\u001b[0m\u001b[0;34m,\u001b[0m \u001b[0mcolumns\u001b[0m\u001b[0;34m=\u001b[0m\u001b[0;34m'env'\u001b[0m\u001b[0;34m,\u001b[0m \u001b[0mvalues\u001b[0m\u001b[0;34m=\u001b[0m\u001b[0;34m'avg time'\u001b[0m\u001b[0;34m)\u001b[0m\u001b[0;34m\u001b[0m\u001b[0;34m\u001b[0m\u001b[0m\n\u001b[1;32m      6\u001b[0m     \u001b[0mdf_test\u001b[0m \u001b[0;34m=\u001b[0m \u001b[0mdf_test\u001b[0m\u001b[0;34m.\u001b[0m\u001b[0mstyle\u001b[0m\u001b[0;34m.\u001b[0m\u001b[0mapply\u001b[0m\u001b[0;34m(\u001b[0m\u001b[0mmaximum_value_in_column\u001b[0m\u001b[0;34m,\u001b[0m \u001b[0msubset\u001b[0m\u001b[0;34m=\u001b[0m\u001b[0;34m[\u001b[0m\u001b[0;34m'docker'\u001b[0m\u001b[0;34m,\u001b[0m \u001b[0;34m'host'\u001b[0m\u001b[0;34m,\u001b[0m \u001b[0;34m'vm'\u001b[0m\u001b[0;34m]\u001b[0m\u001b[0;34m,\u001b[0m \u001b[0maxis\u001b[0m\u001b[0;34m=\u001b[0m\u001b[0;36m0\u001b[0m\u001b[0;34m)\u001b[0m\u001b[0;34m\u001b[0m\u001b[0;34m\u001b[0m\u001b[0m\n\u001b[0;32m----> 7\u001b[0;31m     \u001b[0mprint\u001b[0m\u001b[0;34m(\u001b[0m\u001b[0mdf_test\u001b[0m\u001b[0;34m[\u001b[0m\u001b[0;34m'docker'\u001b[0m\u001b[0;34m]\u001b[0m\u001b[0;34m.\u001b[0m\u001b[0mmin\u001b[0m\u001b[0;34m(\u001b[0m\u001b[0;34m)\u001b[0m\u001b[0;34m)\u001b[0m\u001b[0;34m\u001b[0m\u001b[0;34m\u001b[0m\u001b[0m\n\u001b[0m\u001b[1;32m      8\u001b[0m \u001b[0;34m\u001b[0m\u001b[0m\n\u001b[1;32m      9\u001b[0m     \u001b[0;31m#dfi.export(df_test, f'./dfs_tests/{func}.png')\u001b[0m\u001b[0;34m\u001b[0m\u001b[0;34m\u001b[0m\u001b[0m\n",
      "\u001b[0;31mTypeError\u001b[0m: 'Styler' object is not subscriptable"
     ]
    }
   ],
   "source": [
    "tmp = df.groupby('function name')\n",
    "total_docker = 0;\n",
    "total_host = 0;\n",
    "total_vm = 0;\n",
    "for func in df['function name'].unique():\n",
    "    df_test = tmp.get_group(func).drop(columns=['function name', 'min time', 'max time', 'std dev'])\n",
    "    df_test.style.set_caption(func)\n",
    "    df_test = pd.pivot(df_test, index=['language'], columns='env', values='avg time') \n",
    "    df_test = df_test.style.apply(maximum_value_in_column, subset=['docker', 'host', 'vm'], axis=0)\n",
    "    print(df_test['docker'].min())\n",
    "    \n",
    "    #dfi.export(df_test, f'./dfs_tests/{func}.png')"
   ]
  },
  {
   "cell_type": "code",
   "execution_count": null,
   "id": "8588c1be",
   "metadata": {},
   "outputs": [],
   "source": []
  }
 ],
 "metadata": {
  "kernelspec": {
   "display_name": "Python 3 (ipykernel)",
   "language": "python",
   "name": "python3"
  },
  "language_info": {
   "codemirror_mode": {
    "name": "ipython",
    "version": 3
   },
   "file_extension": ".py",
   "mimetype": "text/x-python",
   "name": "python",
   "nbconvert_exporter": "python",
   "pygments_lexer": "ipython3",
   "version": "3.10.4"
  }
 },
 "nbformat": 4,
 "nbformat_minor": 5
}
